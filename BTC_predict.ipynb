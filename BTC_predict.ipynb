{
  "cells": [
    {
      "attachments": {},
      "cell_type": "markdown",
      "metadata": {
        "colab_type": "text",
        "id": "view-in-github"
      },
      "source": [
        "<a href=\"https://colab.research.google.com/github/youtube-jocoding/pyupbit-autotrade/blob/main/BTC_predict.ipynb\" target=\"_parent\"><img src=\"https://colab.research.google.com/assets/colab-badge.svg\" alt=\"Open In Colab\"/></a>"
      ]
    },
    {
      "cell_type": "code",
      "execution_count": 1,
      "metadata": {
        "id": "OPo1hQ62HcxA"
      },
      "outputs": [],
      "source": [
        "import pyupbit"
      ]
    },
    {
      "cell_type": "code",
      "execution_count": 15,
      "metadata": {
        "colab": {
          "base_uri": "https://localhost:8080/",
          "height": 402
        },
        "id": "sjI3ac9tT7D2",
        "outputId": "142ff09e-6574-4dc7-f117-e1c2e565eba1"
      },
      "outputs": [
        {
          "data": {
            "text/html": [
              "<div>\n",
              "<style scoped>\n",
              "    .dataframe tbody tr th:only-of-type {\n",
              "        vertical-align: middle;\n",
              "    }\n",
              "\n",
              "    .dataframe tbody tr th {\n",
              "        vertical-align: top;\n",
              "    }\n",
              "\n",
              "    .dataframe thead th {\n",
              "        text-align: right;\n",
              "    }\n",
              "</style>\n",
              "<table border=\"1\" class=\"dataframe\">\n",
              "  <thead>\n",
              "    <tr style=\"text-align: right;\">\n",
              "      <th></th>\n",
              "      <th>open</th>\n",
              "      <th>high</th>\n",
              "      <th>low</th>\n",
              "      <th>close</th>\n",
              "      <th>volume</th>\n",
              "      <th>value</th>\n",
              "    </tr>\n",
              "  </thead>\n",
              "  <tbody>\n",
              "    <tr>\n",
              "      <th>2023-05-22 17:00:00</th>\n",
              "      <td>618.0</td>\n",
              "      <td>620.0</td>\n",
              "      <td>615.0</td>\n",
              "      <td>616.0</td>\n",
              "      <td>7.197517e+06</td>\n",
              "      <td>4.438450e+09</td>\n",
              "    </tr>\n",
              "    <tr>\n",
              "      <th>2023-05-22 18:00:00</th>\n",
              "      <td>617.0</td>\n",
              "      <td>619.0</td>\n",
              "      <td>615.0</td>\n",
              "      <td>617.0</td>\n",
              "      <td>4.018214e+06</td>\n",
              "      <td>2.479631e+09</td>\n",
              "    </tr>\n",
              "    <tr>\n",
              "      <th>2023-05-22 19:00:00</th>\n",
              "      <td>617.0</td>\n",
              "      <td>619.0</td>\n",
              "      <td>616.0</td>\n",
              "      <td>619.0</td>\n",
              "      <td>2.767014e+06</td>\n",
              "      <td>1.707849e+09</td>\n",
              "    </tr>\n",
              "    <tr>\n",
              "      <th>2023-05-22 20:00:00</th>\n",
              "      <td>619.0</td>\n",
              "      <td>619.0</td>\n",
              "      <td>616.0</td>\n",
              "      <td>619.0</td>\n",
              "      <td>3.022229e+06</td>\n",
              "      <td>1.867003e+09</td>\n",
              "    </tr>\n",
              "    <tr>\n",
              "      <th>2023-05-22 21:00:00</th>\n",
              "      <td>618.0</td>\n",
              "      <td>620.0</td>\n",
              "      <td>616.0</td>\n",
              "      <td>617.0</td>\n",
              "      <td>5.707801e+06</td>\n",
              "      <td>3.531004e+09</td>\n",
              "    </tr>\n",
              "    <tr>\n",
              "      <th>...</th>\n",
              "      <td>...</td>\n",
              "      <td>...</td>\n",
              "      <td>...</td>\n",
              "      <td>...</td>\n",
              "      <td>...</td>\n",
              "      <td>...</td>\n",
              "    </tr>\n",
              "    <tr>\n",
              "      <th>2023-05-30 20:00:00</th>\n",
              "      <td>669.0</td>\n",
              "      <td>671.0</td>\n",
              "      <td>668.0</td>\n",
              "      <td>670.0</td>\n",
              "      <td>3.688466e+06</td>\n",
              "      <td>2.468839e+09</td>\n",
              "    </tr>\n",
              "    <tr>\n",
              "      <th>2023-05-30 21:00:00</th>\n",
              "      <td>670.0</td>\n",
              "      <td>670.0</td>\n",
              "      <td>665.0</td>\n",
              "      <td>667.0</td>\n",
              "      <td>8.717956e+06</td>\n",
              "      <td>5.816280e+09</td>\n",
              "    </tr>\n",
              "    <tr>\n",
              "      <th>2023-05-30 22:00:00</th>\n",
              "      <td>667.0</td>\n",
              "      <td>669.0</td>\n",
              "      <td>666.0</td>\n",
              "      <td>666.0</td>\n",
              "      <td>4.883128e+06</td>\n",
              "      <td>3.258230e+09</td>\n",
              "    </tr>\n",
              "    <tr>\n",
              "      <th>2023-05-30 23:00:00</th>\n",
              "      <td>667.0</td>\n",
              "      <td>668.0</td>\n",
              "      <td>660.0</td>\n",
              "      <td>663.0</td>\n",
              "      <td>1.003961e+07</td>\n",
              "      <td>6.665962e+09</td>\n",
              "    </tr>\n",
              "    <tr>\n",
              "      <th>2023-05-31 00:00:00</th>\n",
              "      <td>664.0</td>\n",
              "      <td>671.0</td>\n",
              "      <td>662.0</td>\n",
              "      <td>669.0</td>\n",
              "      <td>1.044511e+07</td>\n",
              "      <td>6.960643e+09</td>\n",
              "    </tr>\n",
              "  </tbody>\n",
              "</table>\n",
              "<p>200 rows × 6 columns</p>\n",
              "</div>"
            ],
            "text/plain": [
              "                      open   high    low  close        volume         value\n",
              "2023-05-22 17:00:00  618.0  620.0  615.0  616.0  7.197517e+06  4.438450e+09\n",
              "2023-05-22 18:00:00  617.0  619.0  615.0  617.0  4.018214e+06  2.479631e+09\n",
              "2023-05-22 19:00:00  617.0  619.0  616.0  619.0  2.767014e+06  1.707849e+09\n",
              "2023-05-22 20:00:00  619.0  619.0  616.0  619.0  3.022229e+06  1.867003e+09\n",
              "2023-05-22 21:00:00  618.0  620.0  616.0  617.0  5.707801e+06  3.531004e+09\n",
              "...                    ...    ...    ...    ...           ...           ...\n",
              "2023-05-30 20:00:00  669.0  671.0  668.0  670.0  3.688466e+06  2.468839e+09\n",
              "2023-05-30 21:00:00  670.0  670.0  665.0  667.0  8.717956e+06  5.816280e+09\n",
              "2023-05-30 22:00:00  667.0  669.0  666.0  666.0  4.883128e+06  3.258230e+09\n",
              "2023-05-30 23:00:00  667.0  668.0  660.0  663.0  1.003961e+07  6.665962e+09\n",
              "2023-05-31 00:00:00  664.0  671.0  662.0  669.0  1.044511e+07  6.960643e+09\n",
              "\n",
              "[200 rows x 6 columns]"
            ]
          },
          "execution_count": 15,
          "metadata": {},
          "output_type": "execute_result"
        }
      ],
      "source": [
        "#BTC 최근 200시간의 데이터 불러옴\n",
        "df = pyupbit.get_ohlcv(\"KRW-XRP\", interval=\"minute60\")\n",
        "df\n",
        "\n"
      ]
    },
    {
      "cell_type": "code",
      "execution_count": 16,
      "metadata": {
        "colab": {
          "base_uri": "https://localhost:8080/",
          "height": 402
        },
        "id": "eDaG0GWkVO3N",
        "outputId": "af8c6c98-0b8c-41a9-cb85-0dbea994f230"
      },
      "outputs": [
        {
          "data": {
            "text/html": [
              "<div>\n",
              "<style scoped>\n",
              "    .dataframe tbody tr th:only-of-type {\n",
              "        vertical-align: middle;\n",
              "    }\n",
              "\n",
              "    .dataframe tbody tr th {\n",
              "        vertical-align: top;\n",
              "    }\n",
              "\n",
              "    .dataframe thead th {\n",
              "        text-align: right;\n",
              "    }\n",
              "</style>\n",
              "<table border=\"1\" class=\"dataframe\">\n",
              "  <thead>\n",
              "    <tr style=\"text-align: right;\">\n",
              "      <th></th>\n",
              "      <th>ds</th>\n",
              "      <th>y</th>\n",
              "    </tr>\n",
              "  </thead>\n",
              "  <tbody>\n",
              "    <tr>\n",
              "      <th>0</th>\n",
              "      <td>2023-05-22 17:00:00</td>\n",
              "      <td>616.0</td>\n",
              "    </tr>\n",
              "    <tr>\n",
              "      <th>1</th>\n",
              "      <td>2023-05-22 18:00:00</td>\n",
              "      <td>617.0</td>\n",
              "    </tr>\n",
              "    <tr>\n",
              "      <th>2</th>\n",
              "      <td>2023-05-22 19:00:00</td>\n",
              "      <td>619.0</td>\n",
              "    </tr>\n",
              "    <tr>\n",
              "      <th>3</th>\n",
              "      <td>2023-05-22 20:00:00</td>\n",
              "      <td>619.0</td>\n",
              "    </tr>\n",
              "    <tr>\n",
              "      <th>4</th>\n",
              "      <td>2023-05-22 21:00:00</td>\n",
              "      <td>617.0</td>\n",
              "    </tr>\n",
              "    <tr>\n",
              "      <th>...</th>\n",
              "      <td>...</td>\n",
              "      <td>...</td>\n",
              "    </tr>\n",
              "    <tr>\n",
              "      <th>195</th>\n",
              "      <td>2023-05-30 20:00:00</td>\n",
              "      <td>670.0</td>\n",
              "    </tr>\n",
              "    <tr>\n",
              "      <th>196</th>\n",
              "      <td>2023-05-30 21:00:00</td>\n",
              "      <td>667.0</td>\n",
              "    </tr>\n",
              "    <tr>\n",
              "      <th>197</th>\n",
              "      <td>2023-05-30 22:00:00</td>\n",
              "      <td>666.0</td>\n",
              "    </tr>\n",
              "    <tr>\n",
              "      <th>198</th>\n",
              "      <td>2023-05-30 23:00:00</td>\n",
              "      <td>663.0</td>\n",
              "    </tr>\n",
              "    <tr>\n",
              "      <th>199</th>\n",
              "      <td>2023-05-31 00:00:00</td>\n",
              "      <td>669.0</td>\n",
              "    </tr>\n",
              "  </tbody>\n",
              "</table>\n",
              "<p>200 rows × 2 columns</p>\n",
              "</div>"
            ],
            "text/plain": [
              "                     ds      y\n",
              "0   2023-05-22 17:00:00  616.0\n",
              "1   2023-05-22 18:00:00  617.0\n",
              "2   2023-05-22 19:00:00  619.0\n",
              "3   2023-05-22 20:00:00  619.0\n",
              "4   2023-05-22 21:00:00  617.0\n",
              "..                  ...    ...\n",
              "195 2023-05-30 20:00:00  670.0\n",
              "196 2023-05-30 21:00:00  667.0\n",
              "197 2023-05-30 22:00:00  666.0\n",
              "198 2023-05-30 23:00:00  663.0\n",
              "199 2023-05-31 00:00:00  669.0\n",
              "\n",
              "[200 rows x 2 columns]"
            ]
          },
          "execution_count": 16,
          "metadata": {},
          "output_type": "execute_result"
        }
      ],
      "source": [
        "#시간(ds)와 종가(y)값만 남김\n",
        "df = df.reset_index()\n",
        "df['ds'] = df['index']\n",
        "df['y'] = df['close']\n",
        "data = df[['ds','y']]\n",
        "data"
      ]
    },
    {
      "cell_type": "code",
      "execution_count": 17,
      "metadata": {
        "id": "NeNx5_hhXbR1"
      },
      "outputs": [],
      "source": [
        "#prophet 불러옴\n",
        "from fbprophet import Prophet"
      ]
    },
    {
      "cell_type": "code",
      "execution_count": 18,
      "metadata": {
        "colab": {
          "base_uri": "https://localhost:8080/"
        },
        "id": "lLe7j7jnVep2",
        "outputId": "c7062e3f-e632-4743-e809-ab993a7ebe2b"
      },
      "outputs": [
        {
          "name": "stderr",
          "output_type": "stream",
          "text": [
            "INFO:fbprophet:Disabling yearly seasonality. Run prophet with yearly_seasonality=True to override this.\n",
            "INFO:fbprophet:Disabling weekly seasonality. Run prophet with weekly_seasonality=True to override this.\n"
          ]
        },
        {
          "data": {
            "text/plain": [
              "<fbprophet.forecaster.Prophet at 0x7f47427e9978>"
            ]
          },
          "execution_count": 18,
          "metadata": {},
          "output_type": "execute_result"
        }
      ],
      "source": [
        "#학습\n",
        "model = Prophet()\n",
        "model.fit(data)"
      ]
    },
    {
      "cell_type": "code",
      "execution_count": 19,
      "metadata": {
        "id": "ylP8nXwEYBxK"
      },
      "outputs": [],
      "source": [
        "#24시간 미래 예측\n",
        "future = model.make_future_dataframe(periods=24, freq='H')\n",
        "forecast = model.predict(future)"
      ]
    },
    {
      "cell_type": "code",
      "execution_count": 20,
      "metadata": {
        "colab": {
          "base_uri": "https://localhost:8080/",
          "height": 441
        },
        "id": "_zzI5o0OXN5H",
        "outputId": "11e9714a-d07d-4c95-dddf-eb24d734b629"
      },
      "outputs": [
        {
          "data": {
            "image/png": "[encoded data removed]",
            "text/plain": [
              "<Figure size 720x432 with 1 Axes>"
            ]
          },
          "metadata": {},
          "output_type": "display_data"
        }
      ],
      "source": [
        "#그래프1\n",
        "fig1 = model.plot(forecast)"
      ]
    },
    {
      "cell_type": "code",
      "execution_count": 21,
      "metadata": {
        "colab": {
          "base_uri": "https://localhost:8080/",
          "height": 441
        },
        "id": "DkVLmIsPXOl6",
        "outputId": "ac9f645a-105b-444c-89ac-11a554e6e082"
      },
      "outputs": [
        {
          "data": {
            "image/png": "[encoded data removed]",
            "text/plain": [
              "<Figure size 648x432 with 2 Axes>"
            ]
          },
          "metadata": {},
          "output_type": "display_data"
        }
      ],
      "source": [
        "#그래프2\n",
        "fig2 = model.plot_components(forecast)"
      ]
    },
    {
      "cell_type": "code",
      "execution_count": 24,
      "metadata": {
        "colab": {
          "base_uri": "https://localhost:8080/"
        },
        "id": "GJgSNaOcr5_t",
        "outputId": "3cf9b79d-94d6-4da8-dac0-24edd0b0c57d"
      },
      "outputs": [
        {
          "data": {
            "text/plain": [
              "670.0"
            ]
          },
          "execution_count": 24,
          "metadata": {},
          "output_type": "execute_result"
        }
      ],
      "source": [
        "#매수 시점의 가격\n",
        "nowValue = pyupbit.get_current_price(\"KRW-XRP\")\n",
        "nowValue"
      ]
    },
    {
      "cell_type": "code",
      "execution_count": 26,
      "metadata": {
        "colab": {
          "base_uri": "https://localhost:8080/"
        },
        "id": "SPXCEMj4ma6h",
        "outputId": "1918f82e-5d28-4f0d-cf79-d8c457671d96"
      },
      "outputs": [
        {
          "data": {
            "text/plain": [
              "678.3361151312423"
            ]
          },
          "execution_count": 26,
          "metadata": {},
          "output_type": "execute_result"
        }
      ],
      "source": [
        "#종가의 가격을 구함\n",
        "\n",
        "#현재 시간이 자정 이전\n",
        "closeDf = forecast[forecast['ds'] == forecast.iloc[-1]['ds'].replace(hour=9)]\n",
        "\n",
        "#현재 시간이 자정 이후\n",
        "if len(closeDf) == 0:\n",
        "  closeDf = forecast[forecast['ds'] == data.iloc[-1]['ds'].replace(hour=9)]\n",
        "\n",
        "#어쨋든 당일 종가\n",
        "closeValue = closeDf['yhat'].values[0]\n",
        "closeValue"
      ]
    },
    {
      "cell_type": "code",
      "execution_count": 27,
      "metadata": {
        "colab": {
          "base_uri": "https://localhost:8080/"
        },
        "id": "bUOLBXFNm2cd",
        "outputId": "be8d1c13-ad5a-46ec-bdb7-006098b9057a"
      },
      "outputs": [
        {
          "name": "stdout",
          "output_type": "stream",
          "text": [
            "현재 시점 가격:  670.0\n",
            "종가의 가격:  678.3361151312423\n"
          ]
        }
      ],
      "source": [
        "#구체적인 가격\n",
        "print(\"현재 시점 가격: \", nowValue)\n",
        "print(\"종가의 가격: \", closeValue)"
      ]
    },
    {
      "cell_type": "code",
      "execution_count": 28,
      "metadata": {
        "colab": {
          "base_uri": "https://localhost:8080/",
          "height": 758
        },
        "id": "BS_M58SRt94s",
        "outputId": "13b02e67-563d-4956-baf0-8cc58bbc64da"
      },
      "outputs": [
        {
          "data": {
            "text/html": [
              "<div>\n",
              "<style scoped>\n",
              "    .dataframe tbody tr th:only-of-type {\n",
              "        vertical-align: middle;\n",
              "    }\n",
              "\n",
              "    .dataframe tbody tr th {\n",
              "        vertical-align: top;\n",
              "    }\n",
              "\n",
              "    .dataframe thead th {\n",
              "        text-align: right;\n",
              "    }\n",
              "</style>\n",
              "<table border=\"1\" class=\"dataframe\">\n",
              "  <thead>\n",
              "    <tr style=\"text-align: right;\">\n",
              "      <th></th>\n",
              "      <th>ds</th>\n",
              "      <th>trend</th>\n",
              "      <th>yhat_lower</th>\n",
              "      <th>yhat_upper</th>\n",
              "      <th>trend_lower</th>\n",
              "      <th>trend_upper</th>\n",
              "      <th>additive_terms</th>\n",
              "      <th>additive_terms_lower</th>\n",
              "      <th>additive_terms_upper</th>\n",
              "      <th>daily</th>\n",
              "      <th>daily_lower</th>\n",
              "      <th>daily_upper</th>\n",
              "      <th>multiplicative_terms</th>\n",
              "      <th>multiplicative_terms_lower</th>\n",
              "      <th>multiplicative_terms_upper</th>\n",
              "      <th>yhat</th>\n",
              "    </tr>\n",
              "  </thead>\n",
              "  <tbody>\n",
              "    <tr>\n",
              "      <th>0</th>\n",
              "      <td>2023-05-22 17:00:00</td>\n",
              "      <td>617.468184</td>\n",
              "      <td>613.707738</td>\n",
              "      <td>620.329905</td>\n",
              "      <td>617.468184</td>\n",
              "      <td>617.468184</td>\n",
              "      <td>-0.336980</td>\n",
              "      <td>-0.336980</td>\n",
              "      <td>-0.336980</td>\n",
              "      <td>-0.336980</td>\n",
              "      <td>-0.336980</td>\n",
              "      <td>-0.336980</td>\n",
              "      <td>0.0</td>\n",
              "      <td>0.0</td>\n",
              "      <td>0.0</td>\n",
              "      <td>617.131204</td>\n",
              "    </tr>\n",
              "    <tr>\n",
              "      <th>1</th>\n",
              "      <td>2023-05-22 18:00:00</td>\n",
              "      <td>617.407102</td>\n",
              "      <td>613.872913</td>\n",
              "      <td>620.447755</td>\n",
              "      <td>617.407102</td>\n",
              "      <td>617.407102</td>\n",
              "      <td>-0.340645</td>\n",
              "      <td>-0.340645</td>\n",
              "      <td>-0.340645</td>\n",
              "      <td>-0.340645</td>\n",
              "      <td>-0.340645</td>\n",
              "      <td>-0.340645</td>\n",
              "      <td>0.0</td>\n",
              "      <td>0.0</td>\n",
              "      <td>0.0</td>\n",
              "      <td>617.066457</td>\n",
              "    </tr>\n",
              "    <tr>\n",
              "      <th>2</th>\n",
              "      <td>2023-05-22 19:00:00</td>\n",
              "      <td>617.346020</td>\n",
              "      <td>614.279868</td>\n",
              "      <td>620.775694</td>\n",
              "      <td>617.346020</td>\n",
              "      <td>617.346020</td>\n",
              "      <td>0.003243</td>\n",
              "      <td>0.003243</td>\n",
              "      <td>0.003243</td>\n",
              "      <td>0.003243</td>\n",
              "      <td>0.003243</td>\n",
              "      <td>0.003243</td>\n",
              "      <td>0.0</td>\n",
              "      <td>0.0</td>\n",
              "      <td>0.0</td>\n",
              "      <td>617.349263</td>\n",
              "    </tr>\n",
              "    <tr>\n",
              "      <th>3</th>\n",
              "      <td>2023-05-22 20:00:00</td>\n",
              "      <td>617.284938</td>\n",
              "      <td>613.949365</td>\n",
              "      <td>620.625671</td>\n",
              "      <td>617.284938</td>\n",
              "      <td>617.284938</td>\n",
              "      <td>0.093706</td>\n",
              "      <td>0.093706</td>\n",
              "      <td>0.093706</td>\n",
              "      <td>0.093706</td>\n",
              "      <td>0.093706</td>\n",
              "      <td>0.093706</td>\n",
              "      <td>0.0</td>\n",
              "      <td>0.0</td>\n",
              "      <td>0.0</td>\n",
              "      <td>617.378643</td>\n",
              "    </tr>\n",
              "    <tr>\n",
              "      <th>4</th>\n",
              "      <td>2023-05-22 21:00:00</td>\n",
              "      <td>617.223856</td>\n",
              "      <td>613.720228</td>\n",
              "      <td>620.082072</td>\n",
              "      <td>617.223856</td>\n",
              "      <td>617.223856</td>\n",
              "      <td>-0.461530</td>\n",
              "      <td>-0.461530</td>\n",
              "      <td>-0.461530</td>\n",
              "      <td>-0.461530</td>\n",
              "      <td>-0.461530</td>\n",
              "      <td>-0.461530</td>\n",
              "      <td>0.0</td>\n",
              "      <td>0.0</td>\n",
              "      <td>0.0</td>\n",
              "      <td>616.762326</td>\n",
              "    </tr>\n",
              "    <tr>\n",
              "      <th>...</th>\n",
              "      <td>...</td>\n",
              "      <td>...</td>\n",
              "      <td>...</td>\n",
              "      <td>...</td>\n",
              "      <td>...</td>\n",
              "      <td>...</td>\n",
              "      <td>...</td>\n",
              "      <td>...</td>\n",
              "      <td>...</td>\n",
              "      <td>...</td>\n",
              "      <td>...</td>\n",
              "      <td>...</td>\n",
              "      <td>...</td>\n",
              "      <td>...</td>\n",
              "      <td>...</td>\n",
              "      <td>...</td>\n",
              "    </tr>\n",
              "    <tr>\n",
              "      <th>219</th>\n",
              "      <td>2023-05-31 20:00:00</td>\n",
              "      <td>686.591806</td>\n",
              "      <td>680.938290</td>\n",
              "      <td>692.567086</td>\n",
              "      <td>681.847029</td>\n",
              "      <td>691.133134</td>\n",
              "      <td>0.093706</td>\n",
              "      <td>0.093706</td>\n",
              "      <td>0.093706</td>\n",
              "      <td>0.093706</td>\n",
              "      <td>0.093706</td>\n",
              "      <td>0.093706</td>\n",
              "      <td>0.0</td>\n",
              "      <td>0.0</td>\n",
              "      <td>0.0</td>\n",
              "      <td>686.685511</td>\n",
              "    </tr>\n",
              "    <tr>\n",
              "      <th>220</th>\n",
              "      <td>2023-05-31 21:00:00</td>\n",
              "      <td>687.439161</td>\n",
              "      <td>680.618977</td>\n",
              "      <td>693.090355</td>\n",
              "      <td>682.327379</td>\n",
              "      <td>692.385450</td>\n",
              "      <td>-0.461530</td>\n",
              "      <td>-0.461530</td>\n",
              "      <td>-0.461530</td>\n",
              "      <td>-0.461530</td>\n",
              "      <td>-0.461530</td>\n",
              "      <td>-0.461530</td>\n",
              "      <td>0.0</td>\n",
              "      <td>0.0</td>\n",
              "      <td>0.0</td>\n",
              "      <td>686.977631</td>\n",
              "    </tr>\n",
              "    <tr>\n",
              "      <th>221</th>\n",
              "      <td>2023-05-31 22:00:00</td>\n",
              "      <td>688.286516</td>\n",
              "      <td>680.140136</td>\n",
              "      <td>692.944333</td>\n",
              "      <td>682.676413</td>\n",
              "      <td>693.660441</td>\n",
              "      <td>-1.564713</td>\n",
              "      <td>-1.564713</td>\n",
              "      <td>-1.564713</td>\n",
              "      <td>-1.564713</td>\n",
              "      <td>-1.564713</td>\n",
              "      <td>-1.564713</td>\n",
              "      <td>0.0</td>\n",
              "      <td>0.0</td>\n",
              "      <td>0.0</td>\n",
              "      <td>686.721802</td>\n",
              "    </tr>\n",
              "    <tr>\n",
              "      <th>222</th>\n",
              "      <td>2023-05-31 23:00:00</td>\n",
              "      <td>689.133871</td>\n",
              "      <td>679.341247</td>\n",
              "      <td>693.114848</td>\n",
              "      <td>683.240450</td>\n",
              "      <td>694.877551</td>\n",
              "      <td>-2.735698</td>\n",
              "      <td>-2.735698</td>\n",
              "      <td>-2.735698</td>\n",
              "      <td>-2.735698</td>\n",
              "      <td>-2.735698</td>\n",
              "      <td>-2.735698</td>\n",
              "      <td>0.0</td>\n",
              "      <td>0.0</td>\n",
              "      <td>0.0</td>\n",
              "      <td>686.398173</td>\n",
              "    </tr>\n",
              "    <tr>\n",
              "      <th>223</th>\n",
              "      <td>2023-06-01 00:00:00</td>\n",
              "      <td>689.981226</td>\n",
              "      <td>679.406688</td>\n",
              "      <td>693.683305</td>\n",
              "      <td>683.594786</td>\n",
              "      <td>696.297745</td>\n",
              "      <td>-3.464870</td>\n",
              "      <td>-3.464870</td>\n",
              "      <td>-3.464870</td>\n",
              "      <td>-3.464870</td>\n",
              "      <td>-3.464870</td>\n",
              "      <td>-3.464870</td>\n",
              "      <td>0.0</td>\n",
              "      <td>0.0</td>\n",
              "      <td>0.0</td>\n",
              "      <td>686.516356</td>\n",
              "    </tr>\n",
              "  </tbody>\n",
              "</table>\n",
              "<p>224 rows × 16 columns</p>\n",
              "</div>"
            ],
            "text/plain": [
              "                     ds       trend  yhat_lower  yhat_upper  trend_lower  \\\n",
              "0   2023-05-22 17:00:00  617.468184  613.707738  620.329905   617.468184   \n",
              "1   2023-05-22 18:00:00  617.407102  613.872913  620.447755   617.407102   \n",
              "2   2023-05-22 19:00:00  617.346020  614.279868  620.775694   617.346020   \n",
              "3   2023-05-22 20:00:00  617.284938  613.949365  620.625671   617.284938   \n",
              "4   2023-05-22 21:00:00  617.223856  613.720228  620.082072   617.223856   \n",
              "..                  ...         ...         ...         ...          ...   \n",
              "219 2023-05-31 20:00:00  686.591806  680.938290  692.567086   681.847029   \n",
              "220 2023-05-31 21:00:00  687.439161  680.618977  693.090355   682.327379   \n",
              "221 2023-05-31 22:00:00  688.286516  680.140136  692.944333   682.676413   \n",
              "222 2023-05-31 23:00:00  689.133871  679.341247  693.114848   683.240450   \n",
              "223 2023-06-01 00:00:00  689.981226  679.406688  693.683305   683.594786   \n",
              "\n",
              "     trend_upper  additive_terms  additive_terms_lower  additive_terms_upper  \\\n",
              "0     617.468184       -0.336980             -0.336980             -0.336980   \n",
              "1     617.407102       -0.340645             -0.340645             -0.340645   \n",
              "2     617.346020        0.003243              0.003243              0.003243   \n",
              "3     617.284938        0.093706              0.093706              0.093706   \n",
              "4     617.223856       -0.461530             -0.461530             -0.461530   \n",
              "..           ...             ...                   ...                   ...   \n",
              "219   691.133134        0.093706              0.093706              0.093706   \n",
              "220   692.385450       -0.461530             -0.461530             -0.461530   \n",
              "221   693.660441       -1.564713             -1.564713             -1.564713   \n",
              "222   694.877551       -2.735698             -2.735698             -2.735698   \n",
              "223   696.297745       -3.464870             -3.464870             -3.464870   \n",
              "\n",
              "        daily  daily_lower  daily_upper  multiplicative_terms  \\\n",
              "0   -0.336980    -0.336980    -0.336980                   0.0   \n",
              "1   -0.340645    -0.340645    -0.340645                   0.0   \n",
              "2    0.003243     0.003243     0.003243                   0.0   \n",
              "3    0.093706     0.093706     0.093706                   0.0   \n",
              "4   -0.461530    -0.461530    -0.461530                   0.0   \n",
              "..        ...          ...          ...                   ...   \n",
              "219  0.093706     0.093706     0.093706                   0.0   \n",
              "220 -0.461530    -0.461530    -0.461530                   0.0   \n",
              "221 -1.564713    -1.564713    -1.564713                   0.0   \n",
              "222 -2.735698    -2.735698    -2.735698                   0.0   \n",
              "223 -3.464870    -3.464870    -3.464870                   0.0   \n",
              "\n",
              "     multiplicative_terms_lower  multiplicative_terms_upper        yhat  \n",
              "0                           0.0                         0.0  617.131204  \n",
              "1                           0.0                         0.0  617.066457  \n",
              "2                           0.0                         0.0  617.349263  \n",
              "3                           0.0                         0.0  617.378643  \n",
              "4                           0.0                         0.0  616.762326  \n",
              "..                          ...                         ...         ...  \n",
              "219                         0.0                         0.0  686.685511  \n",
              "220                         0.0                         0.0  686.977631  \n",
              "221                         0.0                         0.0  686.721802  \n",
              "222                         0.0                         0.0  686.398173  \n",
              "223                         0.0                         0.0  686.516356  \n",
              "\n",
              "[224 rows x 16 columns]"
            ]
          },
          "execution_count": 28,
          "metadata": {},
          "output_type": "execute_result"
        }
      ],
      "source": [
        "forecast"
      ]
    },
    {
      "cell_type": "code",
      "execution_count": null,
      "metadata": {
        "id": "JB_UYNJ-uYZr"
      },
      "outputs": [],
      "source": []
    }
  ],
  "metadata": {
    "colab": {
      "authorship_tag": "ABX9TyP5thH85zBWognO/ZVRe6Ve",
      "include_colab_link": true,
      "name": "BTC_predict.ipynb",
      "provenance": []
    },
    "kernelspec": {
      "display_name": "Python 3",
      "name": "python3"
    },
    "language_info": {
      "codemirror_mode": {
        "name": "ipython",
        "version": 3
      },
      "file_extension": ".py",
      "mimetype": "text/x-python",
      "name": "python",
      "nbconvert_exporter": "python",
      "pygments_lexer": "ipython3",
      "version": "3.6.15"
    }
  },
  "nbformat": 4,
  "nbformat_minor": 0
}
